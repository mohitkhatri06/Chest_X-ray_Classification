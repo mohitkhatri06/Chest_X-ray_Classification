{
  "nbformat": 4,
  "nbformat_minor": 0,
  "metadata": {
    "accelerator": "GPU",
    "colab": {
      "name": "set conf_ classification.ipynb",
      "provenance": [],
      "collapsed_sections": []
    },
    "kernelspec": {
      "display_name": "Python 3",
      "name": "python3"
    }
  },
  "cells": [
    {
      "cell_type": "markdown",
      "metadata": {
        "id": "QxIEJ5qXj5kH"
      },
      "source": [
        "Dataset: https://www.kaggle.com/tawsifurrahman/covid19-radiography-database\n",
        "\n",
        "Refrence model: https://doi.org/10.1007/s10044-021-00970-4"
      ]
    },
    {
      "cell_type": "code",
      "metadata": {
        "colab": {
          "base_uri": "https://localhost:8080/"
        },
        "id": "TgJyTmpbAXfj",
        "outputId": "3dcfe3c7-3833-4649-8123-45ab76e74e7a"
      },
      "source": [
        "import tensorflow as tf\n",
        "from tensorflow import keras\n",
        "import pandas as pd\n",
        "import numpy as np\n",
        "import matplotlib.pyplot as plt\n",
        "\n",
        "from keras.models import Model, Sequential\n",
        "from keras.layers import Dense, Flatten, Conv2D, MaxPooling2D\n",
        "from keras.layers.normalization import BatchNormalization\n",
        "\n",
        "from imutils import paths\n",
        "from sklearn.model_selection import train_test_split\n",
        "from sklearn import preprocessing\n",
        "from tensorflow.keras import layers\n",
        "from tensorflow.keras.layers import *\n",
        "import cv2 \n",
        "import os\n",
        "import pathlib\n",
        "import PIL\n",
        "import random\n",
        "import pickle\n",
        "\n",
        "\n",
        "print('Libraries are imported ')"
      ],
      "execution_count": null,
      "outputs": [
        {
          "output_type": "stream",
          "text": [
            "Libraries are imported \n"
          ],
          "name": "stdout"
        }
      ]
    },
    {
      "cell_type": "code",
      "metadata": {
        "colab": {
          "base_uri": "https://localhost:8080/"
        },
        "id": "Kjqs34N4A-EC",
        "outputId": "18a2a7f5-03ec-4b09-c052-a72ab4799542"
      },
      "source": [
        "from google.colab import drive\n",
        "drive.mount('/content/drive')"
      ],
      "execution_count": null,
      "outputs": [
        {
          "output_type": "stream",
          "text": [
            "Drive already mounted at /content/drive; to attempt to forcibly remount, call drive.mount(\"/content/drive\", force_remount=True).\n"
          ],
          "name": "stdout"
        }
      ]
    },
    {
      "cell_type": "markdown",
      "metadata": {
        "id": "87acu706AqQg"
      },
      "source": [
        "## Exploring data"
      ]
    },
    {
      "cell_type": "code",
      "metadata": {
        "colab": {
          "base_uri": "https://localhost:8080/",
          "height": 212
        },
        "id": "1eK6QFTMBMHJ",
        "outputId": "40d9bdaa-775b-44ec-ada8-2412a73c2255"
      },
      "source": [
        "print('Loading data about COVID-19 images')\n",
        "covid_csv_data = pd.read_csv(\"/content/drive/MyDrive/Dataset-Copy/metadata/COVID.metadata.csv\")\n",
        "covid_csv_data.head()"
      ],
      "execution_count": null,
      "outputs": [
        {
          "output_type": "stream",
          "text": [
            "Loading data about COVID-19 images\n"
          ],
          "name": "stdout"
        },
        {
          "output_type": "execute_result",
          "data": {
            "text/html": [
              "<div>\n",
              "<style scoped>\n",
              "    .dataframe tbody tr th:only-of-type {\n",
              "        vertical-align: middle;\n",
              "    }\n",
              "\n",
              "    .dataframe tbody tr th {\n",
              "        vertical-align: top;\n",
              "    }\n",
              "\n",
              "    .dataframe thead th {\n",
              "        text-align: right;\n",
              "    }\n",
              "</style>\n",
              "<table border=\"1\" class=\"dataframe\">\n",
              "  <thead>\n",
              "    <tr style=\"text-align: right;\">\n",
              "      <th></th>\n",
              "      <th>FILE NAME</th>\n",
              "      <th>FORMAT</th>\n",
              "      <th>SIZE</th>\n",
              "      <th>URL</th>\n",
              "    </tr>\n",
              "  </thead>\n",
              "  <tbody>\n",
              "    <tr>\n",
              "      <th>0</th>\n",
              "      <td>COVID 1</td>\n",
              "      <td>PNG</td>\n",
              "      <td>256*256</td>\n",
              "      <td>https://sirm.org/category/senza-categoria/covi...</td>\n",
              "    </tr>\n",
              "    <tr>\n",
              "      <th>1</th>\n",
              "      <td>COVID 2</td>\n",
              "      <td>PNG</td>\n",
              "      <td>256*256</td>\n",
              "      <td>https://sirm.org/category/senza-categoria/covi...</td>\n",
              "    </tr>\n",
              "    <tr>\n",
              "      <th>2</th>\n",
              "      <td>COVID 3</td>\n",
              "      <td>PNG</td>\n",
              "      <td>256*256</td>\n",
              "      <td>https://sirm.org/category/senza-categoria/covi...</td>\n",
              "    </tr>\n",
              "    <tr>\n",
              "      <th>3</th>\n",
              "      <td>COVID 4</td>\n",
              "      <td>PNG</td>\n",
              "      <td>256*256</td>\n",
              "      <td>https://sirm.org/category/senza-categoria/covi...</td>\n",
              "    </tr>\n",
              "    <tr>\n",
              "      <th>4</th>\n",
              "      <td>COVID 5</td>\n",
              "      <td>PNG</td>\n",
              "      <td>256*256</td>\n",
              "      <td>https://sirm.org/category/senza-categoria/covi...</td>\n",
              "    </tr>\n",
              "  </tbody>\n",
              "</table>\n",
              "</div>"
            ],
            "text/plain": [
              "  FILE NAME FORMAT     SIZE                                                URL\n",
              "0   COVID 1    PNG  256*256  https://sirm.org/category/senza-categoria/covi...\n",
              "1   COVID 2    PNG  256*256  https://sirm.org/category/senza-categoria/covi...\n",
              "2   COVID 3    PNG  256*256  https://sirm.org/category/senza-categoria/covi...\n",
              "3   COVID 4    PNG  256*256  https://sirm.org/category/senza-categoria/covi...\n",
              "4   COVID 5    PNG  256*256  https://sirm.org/category/senza-categoria/covi..."
            ]
          },
          "metadata": {
            "tags": []
          },
          "execution_count": 3
        }
      ]
    },
    {
      "cell_type": "markdown",
      "metadata": {
        "id": "HQe1V9hYBY6z"
      },
      "source": [
        "## Loading image data from dataset\n"
      ]
    },
    {
      "cell_type": "code",
      "metadata": {
        "colab": {
          "base_uri": "https://localhost:8080/"
        },
        "id": "v1aqD3_HBafj",
        "outputId": "e2d6aac9-be68-4b4d-d231-363aae3fb380"
      },
      "source": [
        "DIRECTORY = '/content/drive/MyDrive/Dataset-Copy/dataset'\n",
        "CATEGORIES = os.listdir(DIRECTORY)\n",
        "print(CATEGORIES)"
      ],
      "execution_count": null,
      "outputs": [
        {
          "output_type": "stream",
          "text": [
            "['NORMAL', 'Viral Pneumonia', 'COVID']\n"
          ],
          "name": "stdout"
        }
      ]
    },
    {
      "cell_type": "code",
      "metadata": {
        "id": "GJMkZRolB0We"
      },
      "source": [
        "IMG_SIZE = 224\n",
        "data = []\n",
        "\n",
        "for category in CATEGORIES:\n",
        "  folder = os.path.join(DIRECTORY, category)\n",
        "  label = CATEGORIES.index(category)\n",
        "  for img in os.listdir(folder):\n",
        "    img_path = os.path.join(folder, img)\n",
        "    \n",
        "    try:\n",
        "      img_arr = cv2.imread(img_path)\n",
        "      img_arr = cv2.resize(img_arr, (IMG_SIZE, IMG_SIZE))\n",
        "      data.append([img_arr, label])  \n",
        "      \n",
        "      \n",
        "    except:\n",
        "      pass\n",
        "    "
      ],
      "execution_count": null,
      "outputs": []
    },
    {
      "cell_type": "code",
      "metadata": {
        "colab": {
          "base_uri": "https://localhost:8080/"
        },
        "id": "nGWkkUucLNHM",
        "outputId": "e2ab3a6c-0f94-4113-fae9-83948666150d"
      },
      "source": [
        "data[1]"
      ],
      "execution_count": null,
      "outputs": [
        {
          "output_type": "execute_result",
          "data": {
            "text/plain": [
              "[array([[[ 0,  0,  0],\n",
              "         [ 0,  0,  0],\n",
              "         [ 0,  0,  0],\n",
              "         ...,\n",
              "         [35, 35, 35],\n",
              "         [30, 30, 30],\n",
              "         [30, 30, 30]],\n",
              " \n",
              "        [[ 0,  0,  0],\n",
              "         [ 0,  0,  0],\n",
              "         [ 0,  0,  0],\n",
              "         ...,\n",
              "         [46, 46, 46],\n",
              "         [36, 36, 36],\n",
              "         [36, 36, 36]],\n",
              " \n",
              "        [[ 0,  0,  0],\n",
              "         [ 0,  0,  0],\n",
              "         [ 0,  0,  0],\n",
              "         ...,\n",
              "         [43, 43, 43],\n",
              "         [44, 44, 44],\n",
              "         [42, 42, 42]],\n",
              " \n",
              "        ...,\n",
              " \n",
              "        [[ 0,  0,  0],\n",
              "         [ 0,  0,  0],\n",
              "         [ 0,  0,  0],\n",
              "         ...,\n",
              "         [ 0,  0,  0],\n",
              "         [ 0,  0,  0],\n",
              "         [ 0,  0,  0]],\n",
              " \n",
              "        [[ 0,  0,  0],\n",
              "         [ 0,  0,  0],\n",
              "         [ 0,  0,  0],\n",
              "         ...,\n",
              "         [ 0,  0,  0],\n",
              "         [ 0,  0,  0],\n",
              "         [ 0,  0,  0]],\n",
              " \n",
              "        [[ 0,  0,  0],\n",
              "         [ 0,  0,  0],\n",
              "         [ 0,  0,  0],\n",
              "         ...,\n",
              "         [ 0,  0,  0],\n",
              "         [ 0,  0,  0],\n",
              "         [ 0,  0,  0]]], dtype=uint8), 0]"
            ]
          },
          "metadata": {
            "tags": []
          },
          "execution_count": 6
        }
      ]
    },
    {
      "cell_type": "code",
      "metadata": {
        "colab": {
          "base_uri": "https://localhost:8080/"
        },
        "id": "KFY-ncShKyMW",
        "outputId": "c0975df0-0343-42a3-c4a1-a5d6219bdf04"
      },
      "source": [
        "len(data)"
      ],
      "execution_count": null,
      "outputs": [
        {
          "output_type": "execute_result",
          "data": {
            "text/plain": [
              "1500"
            ]
          },
          "metadata": {
            "tags": []
          },
          "execution_count": 7
        }
      ]
    },
    {
      "cell_type": "code",
      "metadata": {
        "id": "pM8kZpRkK6PK"
      },
      "source": [
        "random.shuffle(data)"
      ],
      "execution_count": null,
      "outputs": []
    },
    {
      "cell_type": "code",
      "metadata": {
        "id": "4t5o51tALToR"
      },
      "source": [
        "X = []\n",
        "Y = []\n",
        "\n",
        "for features, labels in data:\n",
        "  X.append(features)\n",
        "  Y.append(labels)"
      ],
      "execution_count": null,
      "outputs": []
    },
    {
      "cell_type": "code",
      "metadata": {
        "id": "9dhZTdTHL7LT"
      },
      "source": [
        "X = np.array(X)\n",
        "Y = np.array(Y)"
      ],
      "execution_count": null,
      "outputs": []
    },
    {
      "cell_type": "code",
      "metadata": {
        "id": "vQaKCBoHMJJM"
      },
      "source": [
        "pickle.dump(X, open('X1.pkl', 'wb'))\n",
        "pickle.dump(Y, open('Y1.pkl', 'wb'))"
      ],
      "execution_count": null,
      "outputs": []
    },
    {
      "cell_type": "code",
      "metadata": {
        "id": "hWI7MPb-NAd3"
      },
      "source": [
        "#X = pickle.load(open('/content/drive/MyDrive/X1.pkl', 'rb'))\n",
        "#Y = pickle.load(open('/content/drive/MyDrive/Y1.pkl', 'rb'))"
      ],
      "execution_count": null,
      "outputs": []
    },
    {
      "cell_type": "code",
      "metadata": {
        "id": "n0livTdhNTEI"
      },
      "source": [
        "X = X/255"
      ],
      "execution_count": null,
      "outputs": []
    },
    {
      "cell_type": "code",
      "metadata": {
        "colab": {
          "base_uri": "https://localhost:8080/"
        },
        "id": "fce8qqRyKns2",
        "outputId": "b41108c4-54eb-4839-e9f2-f8b051a1d5e7"
      },
      "source": [
        "np.array(X[1])"
      ],
      "execution_count": null,
      "outputs": [
        {
          "output_type": "execute_result",
          "data": {
            "text/plain": [
              "array([[[0.04313725, 0.04313725, 0.04313725],\n",
              "        [0.07058824, 0.07058824, 0.07058824],\n",
              "        [0.11764706, 0.11764706, 0.11764706],\n",
              "        ...,\n",
              "        [0.56470588, 0.56470588, 0.56470588],\n",
              "        [0.70196078, 0.70196078, 0.70196078],\n",
              "        [0.91372549, 0.91372549, 0.91372549]],\n",
              "\n",
              "       [[0.02352941, 0.02352941, 0.02352941],\n",
              "        [0.0627451 , 0.0627451 , 0.0627451 ],\n",
              "        [0.09411765, 0.09411765, 0.09411765],\n",
              "        ...,\n",
              "        [0.54117647, 0.54117647, 0.54117647],\n",
              "        [0.69803922, 0.69803922, 0.69803922],\n",
              "        [0.92156863, 0.92156863, 0.92156863]],\n",
              "\n",
              "       [[0.01568627, 0.01568627, 0.01568627],\n",
              "        [0.05098039, 0.05098039, 0.05098039],\n",
              "        [0.07843137, 0.07843137, 0.07843137],\n",
              "        ...,\n",
              "        [0.5254902 , 0.5254902 , 0.5254902 ],\n",
              "        [0.70980392, 0.70980392, 0.70980392],\n",
              "        [0.90980392, 0.90980392, 0.90980392]],\n",
              "\n",
              "       ...,\n",
              "\n",
              "       [[0.        , 0.        , 0.        ],\n",
              "        [0.        , 0.        , 0.        ],\n",
              "        [0.        , 0.        , 0.        ],\n",
              "        ...,\n",
              "        [0.        , 0.        , 0.        ],\n",
              "        [0.        , 0.        , 0.        ],\n",
              "        [0.00392157, 0.00392157, 0.00392157]],\n",
              "\n",
              "       [[0.        , 0.        , 0.        ],\n",
              "        [0.        , 0.        , 0.        ],\n",
              "        [0.        , 0.        , 0.        ],\n",
              "        ...,\n",
              "        [0.        , 0.        , 0.        ],\n",
              "        [0.        , 0.        , 0.        ],\n",
              "        [0.00392157, 0.00392157, 0.00392157]],\n",
              "\n",
              "       [[0.        , 0.        , 0.        ],\n",
              "        [0.        , 0.        , 0.        ],\n",
              "        [0.        , 0.        , 0.        ],\n",
              "        ...,\n",
              "        [0.        , 0.        , 0.        ],\n",
              "        [0.        , 0.        , 0.        ],\n",
              "        [0.00784314, 0.00784314, 0.00784314]]])"
            ]
          },
          "metadata": {
            "tags": []
          },
          "execution_count": 14
        }
      ]
    },
    {
      "cell_type": "markdown",
      "metadata": {
        "id": "H2jDP8aKlUvp"
      },
      "source": [
        "### Splitting the data"
      ]
    },
    {
      "cell_type": "code",
      "metadata": {
        "id": "qpf7KiERQo3K"
      },
      "source": [
        "# split training and test data\n",
        "\n",
        "(X_train, x_test, Y_train, y_test) = train_test_split(X, Y,\n",
        "\ttest_size=0.20, stratify=Y)\n",
        "\n"
      ],
      "execution_count": null,
      "outputs": []
    },
    {
      "cell_type": "code",
      "metadata": {
        "colab": {
          "base_uri": "https://localhost:8080/"
        },
        "id": "QKP6BqNSAxsD",
        "outputId": "c41f7d61-5370-4ce7-f1e1-ad7ec97a332e"
      },
      "source": [
        "print(len(X_train))\n",
        "print(len(x_test))"
      ],
      "execution_count": null,
      "outputs": [
        {
          "output_type": "stream",
          "text": [
            "1200\n",
            "300\n"
          ],
          "name": "stdout"
        }
      ]
    },
    {
      "cell_type": "code",
      "metadata": {
        "id": "BD7pGVt3lpAh"
      },
      "source": [
        ""
      ],
      "execution_count": null,
      "outputs": []
    },
    {
      "cell_type": "code",
      "metadata": {
        "id": "TOkJoG1QLki4"
      },
      "source": [
        ""
      ],
      "execution_count": null,
      "outputs": []
    },
    {
      "cell_type": "code",
      "metadata": {
        "id": "6TR3l33wB8IP"
      },
      "source": [
        "from tensorflow.keras.applications import VGG19, ResNet50V2, DenseNet201, InceptionResNetV2, InceptionV3, Xception, MobileNetV2\n",
        "from tensorflow.keras.optimizers import Adam\n",
        "from tensorflow.keras.callbacks import LearningRateScheduler, EarlyStopping\n",
        "\n",
        "def train_model(path, train_images=None, train_labels = None, \n",
        "                test_images = None, test_labels = None, \n",
        "                model_name = None, epochs =80, learning_rate = 0.0001,\n",
        "                input_shape = (224,224,3), classes=3, batch_size = 16, \n",
        "                classifier_activation='softmax',\n",
        "                callbacks = None):\n",
        "    \n",
        "\n",
        "    base_model = None\n",
        "    if model_name == 'vgg19':        \n",
        "        base_model = VGG19(weights = None, include_top = False, input_shape = input_shape)\n",
        "     \n",
        "    if model_name == 'resnet50_v2':\n",
        "        base_model = ResNet50V2(weights = None, include_top = False, input_shape = input_shape)\n",
        "             \n",
        "    if model_name == 'inception_resnet_v2':        \n",
        "        base_model = InceptionResNetV2(weights = None, include_top = False, input_shape = input_shape)\n",
        "    \n",
        "    if model_name == 'densenet201':        \n",
        "        base_model = DenseNet201(weights = None, include_top = False, input_shape = input_shape)\n",
        "          \n",
        "    if model_name == 'inception_v3':        \n",
        "        base_model = InceptionV3(weights = None, include_top = False, input_shape = input_shape)\n",
        "        \n",
        "    if model_name == 'xception':        \n",
        "        base_model = Xception(weights = None, include_top = False, input_shape = input_shape)\n",
        "        \n",
        "    if model_name == 'mobilenet_v2':        \n",
        "        base_model = MobileNetV2(weights = None, include_top = False, input_shape = input_shape)\n",
        "\n",
        "    x = base_model.output         \n",
        "    x = tf.keras.layers.GlobalAveragePooling2D()(x)\n",
        "    output = tf.keras.layers.Dense(classes, activation=classifier_activation)(x)\n",
        "\n",
        "    model = tf.keras.Model(inputs = base_model.input, outputs = output)\n",
        "\n",
        "    optimizer = Adam(learning_rate = learning_rate, beta_1=0.9, beta_2=0.999, epsilon=1e-07)\n",
        "\n",
        "    model.compile(optimizer = optimizer,\n",
        "                  loss = tf.keras.losses.SparseCategoricalCrossentropy(from_logits=True),\n",
        "                  metrics = ['accuracy'])\n",
        "        \n",
        "    results = model.fit(train_images, train_labels, epochs = epochs,\n",
        "                        validation_data = (test_images, test_labels), \n",
        "                        batch_size=batch_size, \n",
        "                        callbacks = callbacks\n",
        "                        )\n",
        "    \n",
        "    \n",
        "    \n",
        "    save_model = path + model_name + '.h5'\n",
        "    model.save(save_model)\n",
        "    \n",
        "    return results    \n"
      ],
      "execution_count": null,
      "outputs": []
    },
    {
      "cell_type": "code",
      "metadata": {
        "colab": {
          "base_uri": "https://localhost:8080/"
        },
        "id": "3SX6QClsDH5a",
        "outputId": "d28850f4-ebf8-4d76-db74-c42bfd7b27a2"
      },
      "source": [
        "IMG_SIZE = 224\n",
        "\n",
        "print('\\nTraining Inception v3\\n')\n",
        "inception = train_model(DIRECTORY, X_train, Y_train,\n",
        "                        x_test, y_test, model_name = \"inception_v3\",\n",
        "                        epochs = 30, input_shape = (IMG_SIZE,IMG_SIZE,3),\n",
        "                        classes = len(CATEGORIES))\n",
        "\n",
        "early_stop = EarlyStopping(monitor='val_loss', patience=10, verbose=0, \n",
        "                           mode='min', restore_best_weights=True)\n",
        "callbacks = [early_stop]\n",
        "\n",
        "print('\\nTraining DenseNet 201\\n')\n",
        "densenet = train_model(DIRECTORY, X_train, Y_train,\n",
        "                       x_test, y_test, model_name=\"densenet201\",\n",
        "                       epochs=30, input_shape = (IMG_SIZE,IMG_SIZE,3),\n",
        "                       classes = len(CATEGORIES),\n",
        "                       callbacks = callbacks)\n",
        "\n",
        "print('\\nTraining ResNet50 v2\\n')\n",
        "resnet = train_model(DIRECTORY, X_train, Y_train,\n",
        "                     x_test, y_test, model_name=\"resnet50_v2\",\n",
        "                     epochs=30, input_shape = (IMG_SIZE,IMG_SIZE,3),\n",
        "                     classes = len(CATEGORIES),\n",
        "                     callbacks = callbacks)"
      ],
      "execution_count": null,
      "outputs": [
        {
          "output_type": "stream",
          "text": [
            "\n",
            "Training Inception v3\n",
            "\n",
            "Epoch 1/30\n",
            "75/75 [==============================] - 68s 377ms/step - loss: 0.5654 - accuracy: 0.7553 - val_loss: 1.7166 - val_accuracy: 0.3333\n",
            "Epoch 2/30\n",
            "75/75 [==============================] - 25s 340ms/step - loss: 0.2568 - accuracy: 0.9101 - val_loss: 1.8738 - val_accuracy: 0.3333\n",
            "Epoch 3/30\n",
            "75/75 [==============================] - 26s 342ms/step - loss: 0.2632 - accuracy: 0.9079 - val_loss: 4.4253 - val_accuracy: 0.3333\n",
            "Epoch 4/30\n",
            "75/75 [==============================] - 26s 342ms/step - loss: 0.1998 - accuracy: 0.9270 - val_loss: 4.2487 - val_accuracy: 0.3700\n",
            "Epoch 5/30\n",
            "75/75 [==============================] - 26s 342ms/step - loss: 0.1750 - accuracy: 0.9428 - val_loss: 9.1795 - val_accuracy: 0.3333\n",
            "Epoch 6/30\n",
            "75/75 [==============================] - 26s 342ms/step - loss: 0.1182 - accuracy: 0.9616 - val_loss: 3.9763 - val_accuracy: 0.6300\n",
            "Epoch 7/30\n",
            "75/75 [==============================] - 26s 343ms/step - loss: 0.0670 - accuracy: 0.9781 - val_loss: 3.0615 - val_accuracy: 0.5900\n",
            "Epoch 8/30\n",
            "75/75 [==============================] - 26s 343ms/step - loss: 0.0786 - accuracy: 0.9676 - val_loss: 0.7254 - val_accuracy: 0.8000\n",
            "Epoch 9/30\n",
            "75/75 [==============================] - 26s 342ms/step - loss: 0.1180 - accuracy: 0.9726 - val_loss: 0.1948 - val_accuracy: 0.9400\n",
            "Epoch 10/30\n",
            "75/75 [==============================] - 26s 343ms/step - loss: 0.0527 - accuracy: 0.9837 - val_loss: 0.2911 - val_accuracy: 0.9033\n",
            "Epoch 11/30\n",
            "75/75 [==============================] - 26s 343ms/step - loss: 0.0511 - accuracy: 0.9762 - val_loss: 0.2536 - val_accuracy: 0.9133\n",
            "Epoch 12/30\n",
            "75/75 [==============================] - 26s 343ms/step - loss: 0.0435 - accuracy: 0.9805 - val_loss: 0.2708 - val_accuracy: 0.9167\n",
            "Epoch 13/30\n",
            "75/75 [==============================] - 26s 343ms/step - loss: 0.0387 - accuracy: 0.9916 - val_loss: 0.2735 - val_accuracy: 0.9267\n",
            "Epoch 14/30\n",
            "75/75 [==============================] - 26s 344ms/step - loss: 0.0683 - accuracy: 0.9763 - val_loss: 0.3751 - val_accuracy: 0.9233\n",
            "Epoch 15/30\n",
            "75/75 [==============================] - 26s 344ms/step - loss: 0.0124 - accuracy: 0.9975 - val_loss: 0.0809 - val_accuracy: 0.9700\n",
            "Epoch 16/30\n",
            "75/75 [==============================] - 26s 343ms/step - loss: 0.0159 - accuracy: 0.9969 - val_loss: 0.2290 - val_accuracy: 0.9233\n",
            "Epoch 17/30\n",
            "75/75 [==============================] - 26s 344ms/step - loss: 0.0250 - accuracy: 0.9937 - val_loss: 0.0681 - val_accuracy: 0.9767\n",
            "Epoch 18/30\n",
            "75/75 [==============================] - 26s 343ms/step - loss: 0.0174 - accuracy: 0.9925 - val_loss: 0.1523 - val_accuracy: 0.9567\n",
            "Epoch 19/30\n",
            "75/75 [==============================] - 26s 343ms/step - loss: 0.0104 - accuracy: 0.9958 - val_loss: 0.0734 - val_accuracy: 0.9667\n",
            "Epoch 20/30\n",
            "75/75 [==============================] - 26s 343ms/step - loss: 0.0845 - accuracy: 0.9786 - val_loss: 0.4335 - val_accuracy: 0.9000\n",
            "Epoch 21/30\n",
            "75/75 [==============================] - 26s 343ms/step - loss: 0.0528 - accuracy: 0.9821 - val_loss: 0.1285 - val_accuracy: 0.9600\n",
            "Epoch 22/30\n",
            "75/75 [==============================] - 26s 341ms/step - loss: 0.0245 - accuracy: 0.9951 - val_loss: 0.3803 - val_accuracy: 0.9433\n",
            "Epoch 23/30\n",
            "75/75 [==============================] - 26s 342ms/step - loss: 0.0244 - accuracy: 0.9923 - val_loss: 0.3951 - val_accuracy: 0.9300\n",
            "Epoch 24/30\n",
            "75/75 [==============================] - 26s 342ms/step - loss: 0.0312 - accuracy: 0.9905 - val_loss: 0.2792 - val_accuracy: 0.9100\n",
            "Epoch 25/30\n",
            "75/75 [==============================] - 26s 342ms/step - loss: 0.0516 - accuracy: 0.9820 - val_loss: 0.3168 - val_accuracy: 0.9067\n",
            "Epoch 26/30\n",
            "75/75 [==============================] - 26s 342ms/step - loss: 0.0390 - accuracy: 0.9893 - val_loss: 0.4363 - val_accuracy: 0.9033\n",
            "Epoch 27/30\n",
            "75/75 [==============================] - 26s 343ms/step - loss: 0.0176 - accuracy: 0.9980 - val_loss: 0.1581 - val_accuracy: 0.9633\n",
            "Epoch 28/30\n",
            "75/75 [==============================] - 26s 342ms/step - loss: 0.0090 - accuracy: 0.9979 - val_loss: 0.0893 - val_accuracy: 0.9733\n",
            "Epoch 29/30\n",
            "75/75 [==============================] - 26s 341ms/step - loss: 0.0212 - accuracy: 0.9932 - val_loss: 0.1329 - val_accuracy: 0.9633\n",
            "Epoch 30/30\n",
            "75/75 [==============================] - 26s 342ms/step - loss: 0.0098 - accuracy: 0.9957 - val_loss: 0.1227 - val_accuracy: 0.9667\n",
            "\n",
            "Training DenseNet 201\n",
            "\n",
            "Epoch 1/30\n",
            "75/75 [==============================] - 83s 742ms/step - loss: 0.4992 - accuracy: 0.8017 - val_loss: 1.2020 - val_accuracy: 0.3333\n",
            "Epoch 2/30\n",
            "75/75 [==============================] - 50s 662ms/step - loss: 0.2003 - accuracy: 0.9333 - val_loss: 1.6860 - val_accuracy: 0.3333\n",
            "Epoch 3/30\n",
            "75/75 [==============================] - 49s 659ms/step - loss: 0.1163 - accuracy: 0.9676 - val_loss: 1.7241 - val_accuracy: 0.2600\n",
            "Epoch 4/30\n",
            "75/75 [==============================] - 49s 659ms/step - loss: 0.1722 - accuracy: 0.9437 - val_loss: 2.9196 - val_accuracy: 0.3333\n",
            "Epoch 5/30\n",
            "75/75 [==============================] - 50s 662ms/step - loss: 0.0797 - accuracy: 0.9745 - val_loss: 3.3011 - val_accuracy: 0.3333\n",
            "Epoch 6/30\n",
            "75/75 [==============================] - 50s 661ms/step - loss: 0.0874 - accuracy: 0.9677 - val_loss: 3.3479 - val_accuracy: 0.3400\n",
            "Epoch 7/30\n",
            "75/75 [==============================] - 49s 657ms/step - loss: 0.0896 - accuracy: 0.9739 - val_loss: 2.0190 - val_accuracy: 0.3733\n",
            "Epoch 8/30\n",
            "75/75 [==============================] - 49s 660ms/step - loss: 0.0594 - accuracy: 0.9801 - val_loss: 2.3883 - val_accuracy: 0.3800\n",
            "Epoch 9/30\n",
            "75/75 [==============================] - 50s 661ms/step - loss: 0.0369 - accuracy: 0.9888 - val_loss: 2.8160 - val_accuracy: 0.3933\n",
            "Epoch 10/30\n",
            "75/75 [==============================] - 49s 660ms/step - loss: 0.0341 - accuracy: 0.9862 - val_loss: 0.5001 - val_accuracy: 0.8333\n",
            "Epoch 11/30\n",
            "75/75 [==============================] - 49s 658ms/step - loss: 0.0365 - accuracy: 0.9850 - val_loss: 0.5029 - val_accuracy: 0.7933\n",
            "Epoch 12/30\n",
            "75/75 [==============================] - 49s 658ms/step - loss: 0.0284 - accuracy: 0.9956 - val_loss: 0.4591 - val_accuracy: 0.8733\n",
            "Epoch 13/30\n",
            "75/75 [==============================] - 50s 661ms/step - loss: 0.0099 - accuracy: 0.9983 - val_loss: 1.5043 - val_accuracy: 0.6333\n",
            "Epoch 14/30\n",
            "75/75 [==============================] - 50s 662ms/step - loss: 0.0307 - accuracy: 0.9939 - val_loss: 14.4221 - val_accuracy: 0.3367\n",
            "Epoch 15/30\n",
            "75/75 [==============================] - 49s 659ms/step - loss: 0.0329 - accuracy: 0.9949 - val_loss: 0.2565 - val_accuracy: 0.9300\n",
            "Epoch 16/30\n",
            "75/75 [==============================] - 49s 659ms/step - loss: 0.0396 - accuracy: 0.9854 - val_loss: 12.1825 - val_accuracy: 0.5267\n",
            "Epoch 17/30\n",
            "75/75 [==============================] - 49s 660ms/step - loss: 0.0446 - accuracy: 0.9834 - val_loss: 1.0748 - val_accuracy: 0.7233\n",
            "Epoch 18/30\n",
            "75/75 [==============================] - 49s 660ms/step - loss: 0.0222 - accuracy: 0.9932 - val_loss: 0.4167 - val_accuracy: 0.9067\n",
            "Epoch 19/30\n",
            "75/75 [==============================] - 49s 658ms/step - loss: 0.0335 - accuracy: 0.9892 - val_loss: 1.1603 - val_accuracy: 0.7133\n",
            "Epoch 20/30\n",
            "75/75 [==============================] - 49s 658ms/step - loss: 0.0148 - accuracy: 0.9974 - val_loss: 0.2324 - val_accuracy: 0.9467\n",
            "Epoch 21/30\n",
            "75/75 [==============================] - 49s 660ms/step - loss: 0.0130 - accuracy: 0.9956 - val_loss: 0.4075 - val_accuracy: 0.9100\n",
            "Epoch 22/30\n",
            "75/75 [==============================] - 49s 659ms/step - loss: 0.0066 - accuracy: 0.9979 - val_loss: 0.9050 - val_accuracy: 0.7400\n",
            "Epoch 23/30\n",
            "75/75 [==============================] - 49s 658ms/step - loss: 0.0326 - accuracy: 0.9881 - val_loss: 1.4347 - val_accuracy: 0.6767\n",
            "Epoch 24/30\n",
            "75/75 [==============================] - 49s 659ms/step - loss: 0.0303 - accuracy: 0.9911 - val_loss: 1.5652 - val_accuracy: 0.7067\n",
            "Epoch 25/30\n",
            "75/75 [==============================] - 49s 661ms/step - loss: 0.0241 - accuracy: 0.9909 - val_loss: 0.3369 - val_accuracy: 0.9067\n",
            "Epoch 26/30\n",
            "75/75 [==============================] - 49s 660ms/step - loss: 0.0432 - accuracy: 0.9817 - val_loss: 0.2749 - val_accuracy: 0.9333\n",
            "Epoch 27/30\n",
            "75/75 [==============================] - 49s 658ms/step - loss: 0.0068 - accuracy: 0.9987 - val_loss: 1.5656 - val_accuracy: 0.6167\n",
            "Epoch 28/30\n",
            "75/75 [==============================] - 49s 658ms/step - loss: 0.0120 - accuracy: 0.9961 - val_loss: 2.8030 - val_accuracy: 0.5033\n",
            "Epoch 29/30\n",
            "75/75 [==============================] - 50s 662ms/step - loss: 0.0115 - accuracy: 0.9976 - val_loss: 1.0624 - val_accuracy: 0.7633\n",
            "Epoch 30/30\n",
            "75/75 [==============================] - 50s 661ms/step - loss: 0.0252 - accuracy: 0.9875 - val_loss: 0.2084 - val_accuracy: 0.9433\n",
            "\n",
            "Training ResNet50 v2\n",
            "\n",
            "Epoch 1/30\n",
            "75/75 [==============================] - 36s 380ms/step - loss: 0.6421 - accuracy: 0.7467 - val_loss: 2.9521 - val_accuracy: 0.3333\n",
            "Epoch 2/30\n",
            "75/75 [==============================] - 26s 354ms/step - loss: 0.2077 - accuracy: 0.9332 - val_loss: 4.9351 - val_accuracy: 0.3333\n",
            "Epoch 3/30\n",
            "75/75 [==============================] - 27s 354ms/step - loss: 0.1765 - accuracy: 0.9467 - val_loss: 6.0776 - val_accuracy: 0.3333\n",
            "Epoch 4/30\n",
            "75/75 [==============================] - 26s 354ms/step - loss: 0.1594 - accuracy: 0.9478 - val_loss: 6.7864 - val_accuracy: 0.3133\n",
            "Epoch 5/30\n",
            "75/75 [==============================] - 27s 354ms/step - loss: 0.1365 - accuracy: 0.9471 - val_loss: 4.9596 - val_accuracy: 0.3700\n",
            "Epoch 6/30\n",
            "75/75 [==============================] - 27s 354ms/step - loss: 0.0875 - accuracy: 0.9706 - val_loss: 3.3813 - val_accuracy: 0.4233\n",
            "Epoch 7/30\n",
            "75/75 [==============================] - 27s 354ms/step - loss: 0.1275 - accuracy: 0.9585 - val_loss: 6.0028 - val_accuracy: 0.3400\n",
            "Epoch 8/30\n",
            "75/75 [==============================] - 27s 354ms/step - loss: 0.0403 - accuracy: 0.9910 - val_loss: 0.5746 - val_accuracy: 0.7833\n",
            "Epoch 9/30\n",
            "75/75 [==============================] - 27s 355ms/step - loss: 0.0470 - accuracy: 0.9795 - val_loss: 0.4825 - val_accuracy: 0.8567\n",
            "Epoch 10/30\n",
            "75/75 [==============================] - 27s 355ms/step - loss: 0.0664 - accuracy: 0.9759 - val_loss: 1.5853 - val_accuracy: 0.5667\n",
            "Epoch 11/30\n",
            "75/75 [==============================] - 27s 354ms/step - loss: 0.0520 - accuracy: 0.9783 - val_loss: 1.6556 - val_accuracy: 0.6600\n",
            "Epoch 12/30\n",
            "75/75 [==============================] - 27s 355ms/step - loss: 0.0859 - accuracy: 0.9710 - val_loss: 1.2107 - val_accuracy: 0.6900\n",
            "Epoch 13/30\n",
            "75/75 [==============================] - 27s 355ms/step - loss: 0.0315 - accuracy: 0.9872 - val_loss: 0.7026 - val_accuracy: 0.7667\n",
            "Epoch 14/30\n",
            "75/75 [==============================] - 27s 354ms/step - loss: 0.0543 - accuracy: 0.9778 - val_loss: 0.2162 - val_accuracy: 0.9467\n",
            "Epoch 15/30\n",
            "75/75 [==============================] - 27s 355ms/step - loss: 0.0237 - accuracy: 0.9931 - val_loss: 0.1845 - val_accuracy: 0.9467\n",
            "Epoch 16/30\n",
            "75/75 [==============================] - 27s 355ms/step - loss: 0.0066 - accuracy: 0.9989 - val_loss: 0.3014 - val_accuracy: 0.9233\n",
            "Epoch 17/30\n",
            "75/75 [==============================] - 27s 355ms/step - loss: 0.0084 - accuracy: 0.9995 - val_loss: 0.6529 - val_accuracy: 0.8467\n",
            "Epoch 18/30\n",
            "75/75 [==============================] - 27s 355ms/step - loss: 0.1099 - accuracy: 0.9672 - val_loss: 1.0244 - val_accuracy: 0.7533\n",
            "Epoch 19/30\n",
            "75/75 [==============================] - 27s 355ms/step - loss: 0.0260 - accuracy: 0.9879 - val_loss: 8.4407 - val_accuracy: 0.4333\n",
            "Epoch 20/30\n",
            "75/75 [==============================] - 27s 355ms/step - loss: 0.0125 - accuracy: 0.9983 - val_loss: 5.9215 - val_accuracy: 0.6000\n",
            "Epoch 21/30\n",
            "75/75 [==============================] - 27s 355ms/step - loss: 0.0530 - accuracy: 0.9867 - val_loss: 0.4105 - val_accuracy: 0.8533\n",
            "Epoch 22/30\n",
            "75/75 [==============================] - 27s 354ms/step - loss: 0.0260 - accuracy: 0.9927 - val_loss: 0.4829 - val_accuracy: 0.8900\n",
            "Epoch 23/30\n",
            "75/75 [==============================] - 27s 355ms/step - loss: 0.0135 - accuracy: 0.9962 - val_loss: 1.1859 - val_accuracy: 0.7633\n",
            "Epoch 24/30\n",
            "75/75 [==============================] - 27s 354ms/step - loss: 0.0201 - accuracy: 0.9925 - val_loss: 1.7802 - val_accuracy: 0.7500\n",
            "Epoch 25/30\n",
            "75/75 [==============================] - 27s 355ms/step - loss: 0.0211 - accuracy: 0.9924 - val_loss: 4.9940 - val_accuracy: 0.6300\n"
          ],
          "name": "stdout"
        }
      ]
    },
    {
      "cell_type": "code",
      "metadata": {
        "id": "LYdVmHCJCMa6"
      },
      "source": [
        "def ensemble(x, weights, models): \n",
        "    '''\n",
        "    returns a weighted average of predictions made by the models\\n\n",
        "    x -> input image \\n\n",
        "    weights -> a list of weights \\n\n",
        "    models -> a list of models\\n    \n",
        "    '''      \n",
        "    outputs = []    \n",
        "    for model in models:                \n",
        "        outputs.append(list(model.predict(x)[0]))                \n",
        "    \n",
        "    outputs = np.array(outputs)\n",
        "    avg = np.average(a=outputs,axis=0,weights=weights)\n",
        "    return avg\n",
        "\n",
        "\n",
        "def equal(pred, label):\n",
        "  pred_id = np.argmax(pred)\n",
        "  if (pred_id == label):\n",
        "    return True\n",
        "  else:\n",
        "    return False\n",
        "\n",
        "\n",
        "def accuracy(predicted_values, y_truths):\n",
        "  '''\n",
        "  returns accuracy\\n\n",
        "  predicted_values = a numpy array containing the predictions\\n\n",
        "  y_truths = a numpy array containing the truth values\\n  \n",
        "  '''\n",
        "  total = len(y_truths)\n",
        "  correct = 0\n",
        "  for i in range(len(y_truths)):\n",
        "    if equal(predicted_values[i],y_truths[i]):\n",
        "      correct += 1\n",
        "  acc = correct / total\n",
        "  return acc\n",
        "\n",
        "\n",
        "def generate_weights(x_val, y_val, models):\n",
        "    '''\n",
        "    returns a list of weights\n",
        "    '''\n",
        "    accuracy = []\n",
        "    weights = np.full((1,len(models)), 100.0)\n",
        "    for model in models:\n",
        "      acc = model.evaluate(x_val, y_val)[1]\n",
        "      accuracy.append(100*acc)\n",
        "\n",
        "    weights = weights - accuracy\n",
        "    weights = weights**2\n",
        "\n",
        "    sum = np.sum(weights)\n",
        "    weights = weights/sum\n",
        "    weights = 1/weights\n",
        "\n",
        "    weights = weights**2\n",
        "    sum = np.sum(weights)\n",
        "\n",
        "    weights = weights/sum\n",
        "    \n",
        "    return weights"
      ],
      "execution_count": null,
      "outputs": []
    },
    {
      "cell_type": "code",
      "metadata": {
        "id": "_LywrbxKXDUS"
      },
      "source": [
        ""
      ],
      "execution_count": null,
      "outputs": []
    },
    {
      "cell_type": "code",
      "metadata": {
        "id": "J0q_nHWjXRsj"
      },
      "source": [
        ""
      ],
      "execution_count": null,
      "outputs": []
    },
    {
      "cell_type": "code",
      "metadata": {
        "id": "JhUfMp6HYPDi",
        "colab": {
          "base_uri": "https://localhost:8080/"
        },
        "outputId": "df9470d7-8b4f-47ea-b61e-a9c2f705099f"
      },
      "source": [
        "from sklearn.metrics import classification_report, confusion_matrix\n",
        "\n",
        "\n",
        "\n",
        "inception_path = '/content/drive/MyDrive/Dataset-Copy/datasetinception_v3.h5'\n",
        "resnet_path = '/content/drive/MyDrive/Dataset-Copy/datasetresnet50_v2.h5'\n",
        "densenet_path = '/content/drive/MyDrive/Dataset-Copy/datasetdensenet201.h5'\n",
        "\n",
        "\n",
        "\n",
        "\n",
        "inception_model = tf.keras.models.load_model(inception_path)\n",
        "resnet_model = tf.keras.models.load_model(resnet_path)\n",
        "densenet_model = tf.keras.models.load_model(densenet_path)\n",
        "\n",
        "models = [densenet_model,resnet_model,inception_model]\n",
        "\n",
        "w = generate_weights(x_test,y_test,models)[0] #generating weights\n",
        "print(\"Weights: \", w)\n",
        "\n",
        "predictions = []\n",
        "for i in range(len(x_test)):\n",
        "  pred = ensemble(x_test[i].reshape(-1,IMG_SIZE,IMG_SIZE,3),w,models)\n",
        "  predictions.append(pred)\n",
        "\n",
        "print(\"Accuracy: \",accuracy(predictions,y_test))\n",
        "\n",
        "y_pred = np.argmax(np.array(predictions), axis=1)\n",
        "\n",
        "print(\"The classification report: \")\n",
        "print(classification_report(y_pred=y_pred, y_true=y_test))\n",
        "print()\n",
        "print(\"Confusion Matrix: \")\n",
        "print(confusion_matrix(y_pred=y_pred, y_true=y_test))"
      ],
      "execution_count": null,
      "outputs": [
        {
          "output_type": "stream",
          "text": [
            "10/10 [==============================] - 10s 297ms/step - loss: 0.2084 - accuracy: 0.9433\n",
            "10/10 [==============================] - 4s 177ms/step - loss: 0.1845 - accuracy: 0.9467\n",
            "10/10 [==============================] - 5s 152ms/step - loss: 0.1227 - accuracy: 0.9667\n",
            "Weights:  [0.09410432 0.11992928 0.7859664 ]\n",
            "Accuracy:  0.9666666666666667\n",
            "The classification report: \n",
            "              precision    recall  f1-score   support\n",
            "\n",
            "           0       0.94      1.00      0.97       100\n",
            "           1       0.98      0.92      0.95       100\n",
            "           2       0.98      0.98      0.98       100\n",
            "\n",
            "    accuracy                           0.97       300\n",
            "   macro avg       0.97      0.97      0.97       300\n",
            "weighted avg       0.97      0.97      0.97       300\n",
            "\n",
            "\n",
            "Confusion Matrix: \n",
            "[[100   0   0]\n",
            " [  6  92   2]\n",
            " [  0   2  98]]\n"
          ],
          "name": "stdout"
        }
      ]
    },
    {
      "cell_type": "code",
      "metadata": {
        "id": "gZG0hpHKYWHv"
      },
      "source": [
        ""
      ],
      "execution_count": null,
      "outputs": []
    },
    {
      "cell_type": "code",
      "metadata": {
        "id": "J9Xwn_C1bxXe"
      },
      "source": [
        ""
      ],
      "execution_count": null,
      "outputs": []
    },
    {
      "cell_type": "markdown",
      "metadata": {
        "id": "lkA8hgB3L8o9"
      },
      "source": [
        "# ================RANDOM FOREST======================"
      ]
    },
    {
      "cell_type": "code",
      "metadata": {
        "id": "l1_3ggSPGgnb"
      },
      "source": [
        "activation = 'sigmoid'\n",
        "\n",
        "feature_extractor = Sequential()\n",
        "feature_extractor.add(Conv2D(32, 3, activation = activation, padding = 'same', input_shape = (IMG_SIZE, IMG_SIZE, 3)))\n",
        "feature_extractor.add(BatchNormalization())\n",
        "\n",
        "feature_extractor.add(Conv2D(32, 3, activation = activation, padding = 'same', kernel_initializer = 'he_uniform'))\n",
        "feature_extractor.add(BatchNormalization())\n",
        "feature_extractor.add(MaxPooling2D())\n",
        "\n",
        "feature_extractor.add(Conv2D(64, 3, activation = activation, padding = 'same', kernel_initializer = 'he_uniform'))\n",
        "feature_extractor.add(BatchNormalization())\n",
        "\n",
        "feature_extractor.add(Conv2D(64, 3, activation = activation, padding = 'same', kernel_initializer = 'he_uniform'))\n",
        "feature_extractor.add(BatchNormalization())\n",
        "feature_extractor.add(MaxPooling2D())\n",
        "\n",
        "feature_extractor.add(Flatten())"
      ],
      "execution_count": null,
      "outputs": []
    },
    {
      "cell_type": "code",
      "metadata": {
        "id": "LYaX5eWFMTbL",
        "colab": {
          "base_uri": "https://localhost:8080/"
        },
        "outputId": "8e733cb2-3a94-416d-ba12-ce7c0b51a85c"
      },
      "source": [
        "#Add layers for deep learning prediction\n",
        "x1 = feature_extractor.output  \n",
        "x1 = Dense(128, activation = activation, kernel_initializer = 'he_uniform')(x1)\n",
        "prediction_layer = Dense(3, activation = 'softmax')(x1)             #3 is number of class \n",
        "\n",
        "# Make a new model combining both feature extractor and x\n",
        "cnn_model = Model(inputs=feature_extractor.input, outputs=prediction_layer)\n",
        "cnn_model.compile(optimizer='rmsprop',loss = 'categorical_crossentropy', metrics = ['accuracy'])\n",
        "print(cnn_model.summary()) "
      ],
      "execution_count": null,
      "outputs": [
        {
          "output_type": "stream",
          "text": [
            "Model: \"model_3\"\n",
            "_________________________________________________________________\n",
            "Layer (type)                 Output Shape              Param #   \n",
            "=================================================================\n",
            "conv2d_94_input (InputLayer) [(None, 224, 224, 3)]     0         \n",
            "_________________________________________________________________\n",
            "conv2d_94 (Conv2D)           (None, 224, 224, 32)      896       \n",
            "_________________________________________________________________\n",
            "batch_normalization_94 (Batc (None, 224, 224, 32)      128       \n",
            "_________________________________________________________________\n",
            "conv2d_95 (Conv2D)           (None, 224, 224, 32)      9248      \n",
            "_________________________________________________________________\n",
            "batch_normalization_95 (Batc (None, 224, 224, 32)      128       \n",
            "_________________________________________________________________\n",
            "max_pooling2d_7 (MaxPooling2 (None, 112, 112, 32)      0         \n",
            "_________________________________________________________________\n",
            "conv2d_96 (Conv2D)           (None, 112, 112, 64)      18496     \n",
            "_________________________________________________________________\n",
            "batch_normalization_96 (Batc (None, 112, 112, 64)      256       \n",
            "_________________________________________________________________\n",
            "conv2d_97 (Conv2D)           (None, 112, 112, 64)      36928     \n",
            "_________________________________________________________________\n",
            "batch_normalization_97 (Batc (None, 112, 112, 64)      256       \n",
            "_________________________________________________________________\n",
            "max_pooling2d_8 (MaxPooling2 (None, 56, 56, 64)        0         \n",
            "_________________________________________________________________\n",
            "flatten (Flatten)            (None, 200704)            0         \n",
            "_________________________________________________________________\n",
            "dense_3 (Dense)              (None, 128)               25690240  \n",
            "_________________________________________________________________\n",
            "dense_4 (Dense)              (None, 3)                 387       \n",
            "=================================================================\n",
            "Total params: 25,756,963\n",
            "Trainable params: 25,756,579\n",
            "Non-trainable params: 384\n",
            "_________________________________________________________________\n",
            "None\n"
          ],
          "name": "stdout"
        }
      ]
    },
    {
      "cell_type": "code",
      "metadata": {
        "id": "eyKeU6YOMXKP"
      },
      "source": [
        "X_for_RF = feature_extractor.predict(X_train) #This is out X input to RF\n",
        "\n",
        "#RANDOM FOREST\n",
        "from sklearn.ensemble import RandomForestClassifier\n",
        "RF_model = RandomForestClassifier(n_estimators = 70, random_state = 42)"
      ],
      "execution_count": null,
      "outputs": []
    },
    {
      "cell_type": "code",
      "metadata": {
        "id": "mZ58TvoJMaZI"
      },
      "source": [
        "\n",
        "# Train the model on training data\n",
        "RF_model.fit(X_for_RF, Y_train) #For sklearn no one hot encoding\n",
        "\n",
        "#Send test data through same feature extractor process\n",
        "X_test_feature = feature_extractor.predict(x_test)\n",
        "#Now predict using the trained RF model. \n",
        "prediction_RF = RF_model.predict(X_test_feature)\n"
      ],
      "execution_count": null,
      "outputs": []
    },
    {
      "cell_type": "code",
      "metadata": {
        "id": "ziR4F4e9tL4s"
      },
      "source": [
        ""
      ],
      "execution_count": null,
      "outputs": []
    },
    {
      "cell_type": "code",
      "metadata": {
        "id": "tmJ_SWEMMfUK",
        "colab": {
          "base_uri": "https://localhost:8080/"
        },
        "outputId": "0a868130-1c70-4fe7-f78b-50bcf5ab2a49"
      },
      "source": [
        "\n",
        "from sklearn import metrics\n",
        "\n",
        "print(\"The classification report: \")\n",
        "print(classification_report(y_pred=y_pred, y_true=y_test))\n",
        "\n",
        "print (\"Accuracy = \", metrics.accuracy_score(y_test, prediction_RF))\n",
        "\n",
        "#Confusion Matrix - verify accuracy of each class\n",
        "cm = confusion_matrix(y_test, prediction_RF)\n",
        "#print(cm)\n",
        "cm"
      ],
      "execution_count": null,
      "outputs": [
        {
          "output_type": "stream",
          "text": [
            "The classification report: \n",
            "              precision    recall  f1-score   support\n",
            "\n",
            "           0       0.94      1.00      0.97       100\n",
            "           1       0.98      0.92      0.95       100\n",
            "           2       0.98      0.98      0.98       100\n",
            "\n",
            "    accuracy                           0.97       300\n",
            "   macro avg       0.97      0.97      0.97       300\n",
            "weighted avg       0.97      0.97      0.97       300\n",
            "\n",
            "Accuracy =  0.9133333333333333\n"
          ],
          "name": "stdout"
        },
        {
          "output_type": "execute_result",
          "data": {
            "text/plain": [
              "array([[97,  2,  1],\n",
              "       [ 6, 88,  6],\n",
              "       [ 0, 11, 89]])"
            ]
          },
          "metadata": {
            "tags": []
          },
          "execution_count": 40
        }
      ]
    },
    {
      "cell_type": "code",
      "metadata": {
        "id": "XG5CN3Kt_IHe"
      },
      "source": [
        ""
      ],
      "execution_count": null,
      "outputs": []
    },
    {
      "cell_type": "code",
      "metadata": {
        "id": "fpLFwgNUY6t1"
      },
      "source": [
        ""
      ],
      "execution_count": null,
      "outputs": []
    },
    {
      "cell_type": "code",
      "metadata": {
        "id": "NcxDmQ6VY3kL"
      },
      "source": [
        ""
      ],
      "execution_count": null,
      "outputs": []
    },
    {
      "cell_type": "markdown",
      "metadata": {
        "id": "H0bG6s7Ik8ag"
      },
      "source": [
        ""
      ]
    }
  ]
}